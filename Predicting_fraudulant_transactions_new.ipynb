{
  "metadata": {
    "kernelspec": {
      "name": "python3",
      "display_name": "Python 3"
    },
    "language_info": {
      "name": "python",
      "mimetype": "text/x-python",
      "pygments_lexer": "ipython3",
      "file_extension": ".py",
      "version": "3.6.4",
      "nbconvert_exporter": "python",
      "codemirror_mode": {
        "name": "ipython",
        "version": 3
      }
    },
    "anaconda-cloud": {},
    "kaggle": {
      "accelerator": "nvidiaTeslaT4",
      "dataSources": [
        {
          "sourceId": 1940,
          "sourceType": "datasetVersion",
          "datasetId": 1069
        }
      ],
      "dockerImageVersionId": 37,
      "isInternetEnabled": false,
      "language": "python",
      "sourceType": "notebook",
      "isGpuEnabled": true
    },
    "colab": {
      "provenance": [],
      "gpuType": "T4"
    },
    "accelerator": "GPU"
  },
  "nbformat_minor": 0,
  "nbformat": 4,
  "cells": [
    {
      "cell_type": "markdown",
      "source": [
        "<a id='import'></a>\n",
        "#### 1. Import"
      ],
      "metadata": {
        "_cell_guid": "aae6646e-bcaa-4afb-85bc-2f67e314d5b0",
        "_uuid": "d821b548edc31ad27967b8419af17bfa4f0bae48",
        "id": "VFav1oWZze1w"
      }
    },
    {
      "cell_type": "code",
      "source": [
        "import pandas as pd\n",
        "import numpy as np\n",
        "%matplotlib inline\n",
        "import matplotlib.pyplot as plt\n",
        "import matplotlib.lines as mlines\n",
        "from mpl_toolkits.mplot3d import Axes3D\n",
        "import seaborn as sns\n",
        "from sklearn.model_selection import train_test_split, learning_curve\n",
        "from sklearn.metrics import average_precision_score\n",
        "from xgboost.sklearn import XGBClassifier\n",
        "from xgboost import plot_importance, to_graphviz"
      ],
      "metadata": {
        "_cell_guid": "03afcaca-4105-4c95-9a38-9a922f592814",
        "_uuid": "f936a10915bc042e678e1148923e493f92b518c3",
        "execution": {
          "iopub.status.busy": "2024-10-26T20:03:39.033052Z",
          "iopub.execute_input": "2024-10-26T20:03:39.033610Z",
          "iopub.status.idle": "2024-10-26T20:03:39.051948Z",
          "shell.execute_reply.started": "2024-10-26T20:03:39.033521Z",
          "shell.execute_reply": "2024-10-26T20:03:39.051308Z"
        },
        "trusted": true,
        "id": "N3Z3Mzh1ze1w"
      },
      "execution_count": null,
      "outputs": []
    },
    {
      "cell_type": "code",
      "source": [
        "import warnings\n",
        "warnings.filterwarnings(\"ignore\", category=DeprecationWarning)"
      ],
      "metadata": {
        "_cell_guid": "9bc1119f-d883-4cc6-b569-a707359abe01",
        "_uuid": "b7a3f0c8714f9e3d78a898a014f5ad81ecee1063",
        "execution": {
          "iopub.status.busy": "2024-10-26T20:03:39.052890Z",
          "iopub.execute_input": "2024-10-26T20:03:39.053200Z",
          "iopub.status.idle": "2024-10-26T20:03:39.060826Z",
          "shell.execute_reply.started": "2024-10-26T20:03:39.053131Z",
          "shell.execute_reply": "2024-10-26T20:03:39.060256Z"
        },
        "trusted": true,
        "id": "hloykVVLze1x"
      },
      "execution_count": null,
      "outputs": []
    },
    {
      "cell_type": "code",
      "source": [
        "import zipfile\n",
        "import pandas as pd\n",
        "\n",
        "# Define the path to your zip file and the desired save path for the extracted CSV\n",
        "zip_path = '/content/Fraud.csv.zip'\n",
        "save_path = '/content/Fraud_extracted.csv'\n",
        "\n",
        "# Open the zip file\n",
        "with zipfile.ZipFile(zip_path, 'r') as zip_ref:\n",
        "    # List files in the zip archive\n",
        "    file_list = zip_ref.namelist()\n",
        "\n",
        "    # Assuming there's only one CSV file in the zip, get its name\n",
        "    csv_filename = file_list[0]  # Replace 0 if there are multiple files or specify directly\n",
        "\n",
        "    # Extract the CSV file and read it directly into a pandas DataFrame\n",
        "    with zip_ref.open(csv_filename) as csv_file:\n",
        "        df = pd.read_csv(csv_file)\n",
        "\n",
        "# Save the DataFrame to a new CSV file\n",
        "df.to_csv(save_path, index=False)\n",
        "\n",
        "# Display the first few rows of the DataFrame to confirm\n",
        "print(df.head())\n"
      ],
      "metadata": {
        "id": "EDEh43r2-mQS"
      },
      "execution_count": null,
      "outputs": []
    },
    {
      "cell_type": "code",
      "source": [
        "import numpy as np\n",
        "\n",
        "# Load your data\n",
        "df = pd.read_csv('/content/Fraud_extracted.csv')\n",
        "\n",
        "# Define cities and probabilities for the 'location' column\n",
        "cities = [\"Denton\", \"Los Angeles\", \"Houston\", \"New York\", \"Miami\", \"Las Vegas\", \"San Francisco\", \"Boston\", \"Seattle\"]\n",
        "probabilities = [0.85] + [0.15 / (len(cities) - 1)] * (len(cities) - 1)\n",
        "\n",
        "# Generate the 'location' column with 85% entries as 'Denton' and 15% as other cities\n",
        "df['location'] = np.random.choice(cities, size=len(df), p=probabilities)\n",
        "\n",
        "# Update 'isFlaggedFraud' to 1 when location is not 'Denton' and 'amount' is greater than 5000\n",
        "df['isFlaggedFraud'] = np.where(\n",
        "    (df['location'] != 'Denton') | ((df['type'] == 'debit') & (df['amount'] > 5000)),\n",
        "    1,\n",
        "    df['isFlaggedFraud']\n",
        ")\n",
        "\n",
        "# Save the modified DataFrame to a new file\n",
        "df.to_csv('/content/Fraudulant_Data_with_location.csv', index=False)\n",
        "\n",
        "# Display the first few rows to confirm\n",
        "print(df.head())\n"
      ],
      "metadata": {
        "id": "M4CO2sLn-nSa"
      },
      "execution_count": null,
      "outputs": []
    },
    {
      "cell_type": "markdown",
      "source": [
        "Import data and correct spelling of original column headers for consistency"
      ],
      "metadata": {
        "_cell_guid": "da58e56c-7ba7-46b2-8b84-d1bcea8c7e42",
        "_uuid": "435ddb566ca27f5ce720f0fcb52e62e99dc829dd",
        "id": "Ad0nzCOKze1x"
      }
    },
    {
      "cell_type": "code",
      "source": [
        "df = pd.read_csv('/content/Fraudulant_Data_with_location.csv')\n",
        "df = df.rename(columns={'oldbalanceOrg':'oldBalanceOrig', 'newbalanceOrig':'newBalanceOrig', \\\n",
        "                        'oldbalanceDest':'oldBalanceDest', 'newbalanceDest':'newBalanceDest'})"
      ],
      "metadata": {
        "_cell_guid": "9dc91648-ab99-44c3-a1f1-bea967df390f",
        "_uuid": "6e1110dd564e4a38eb9d8e83c4575dcc3d26abe8",
        "execution": {
          "iopub.status.busy": "2024-10-26T20:03:39.061996Z",
          "iopub.execute_input": "2024-10-26T20:03:39.062308Z",
          "iopub.status.idle": "2024-10-26T20:03:52.682645Z",
          "shell.execute_reply.started": "2024-10-26T20:03:39.062253Z",
          "shell.execute_reply": "2024-10-26T20:03:52.682038Z"
        },
        "trusted": true,
        "id": "a33FP8tOze1y"
      },
      "execution_count": null,
      "outputs": []
    },
    {
      "cell_type": "markdown",
      "source": [
        "Test if there any missing values in DataFrame. It turns out there are no\n",
        "obvious missing values but, as we will see below, this does not rule out proxies by a numerical\n",
        "value like 0."
      ],
      "metadata": {
        "_cell_guid": "51d76f51-53ed-4ba5-ae39-588909fcb531",
        "_uuid": "d0987a74164e0d432df7291eb91338a6a6b17fe2",
        "id": "f6PFR0Efze1y"
      }
    },
    {
      "cell_type": "code",
      "source": [
        "df.isnull().values.any()"
      ],
      "metadata": {
        "_cell_guid": "665e996b-39b8-4f47-bb2a-6a31643cde22",
        "_uuid": "4b7ffd4888d1df69961a0f2a58aa5102e694bc8b",
        "execution": {
          "iopub.status.busy": "2024-10-26T20:03:52.683713Z",
          "iopub.execute_input": "2024-10-26T20:03:52.683926Z",
          "iopub.status.idle": "2024-10-26T20:03:52.690090Z",
          "shell.execute_reply.started": "2024-10-26T20:03:52.683889Z",
          "shell.execute_reply": "2024-10-26T20:03:52.689398Z"
        },
        "trusted": true,
        "colab": {
          "base_uri": "https://localhost:8080/"
        },
        "id": "sCzHp53Qze1y",
        "outputId": "f1ed45f6-471b-49c3-a590-928a6a047b19"
      },
      "execution_count": null,
      "outputs": [
        {
          "output_type": "execute_result",
          "data": {
            "text/plain": [
              "True"
            ]
          },
          "metadata": {},
          "execution_count": 6
        }
      ]
    },
    {
      "cell_type": "code",
      "source": [
        "print('\\n The types of fraudulent transactions are {}'.format(\\\n",
        "list(df.loc[df.isFraud == 1].type.drop_duplicates().values)))\n",
        "\n",
        "\n",
        "dfFraudTransfer = df.loc[(df.isFraud == 1) & (df.type == 'TRANSFER')]\n",
        "dfFraudCashout = df.loc[(df.isFraud == 1) & (df.type == 'CASH_OUT')]\n",
        "dfFraudDebit = df.loc[(df.isFraud == 1) & (df.type == 'DEBIT')]\n",
        "\n",
        "print ('\\n The number of fraudulent TRANSFERs = {}'.\\\n",
        "       format(len(dfFraudTransfer)))\n",
        "\n",
        "print ('\\n The number of fraudulent CASH_OUTs = {}'.\\\n",
        "       format(len(dfFraudCashout)))\n",
        "\n",
        "print ('\\n The number of fraudulent DEBITs = {}'.\\\n",
        "       format(len(dfFraudDebit)))"
      ],
      "metadata": {
        "_cell_guid": "a10a3577-4716-49dc-8dda-d567fb395a74",
        "_uuid": "abc0207b9075a0defd828fe8732d63cce8da33c6",
        "execution": {
          "iopub.status.busy": "2024-10-26T20:03:52.691300Z",
          "iopub.execute_input": "2024-10-26T20:03:52.691594Z",
          "iopub.status.idle": "2024-10-26T20:03:52.717790Z",
          "shell.execute_reply.started": "2024-10-26T20:03:52.691537Z",
          "shell.execute_reply": "2024-10-26T20:03:52.717135Z"
        },
        "trusted": true,
        "colab": {
          "base_uri": "https://localhost:8080/"
        },
        "id": "Fz_ZXMtnze1z",
        "outputId": "1f4a21dc-7f39-4ba7-bab6-4a1f79d67736"
      },
      "execution_count": null,
      "outputs": [
        {
          "output_type": "stream",
          "name": "stdout",
          "text": [
            "\n",
            " The types of fraudulent transactions are ['TRANSFER', 'CASH_OUT']\n",
            "\n",
            " The number of fraudulent TRANSFERs = 1563\n",
            "\n",
            " The number of fraudulent CASH_OUTs = 1582\n",
            "\n",
            " The number of fraudulent DEBITs = 0\n"
          ]
        }
      ]
    },
    {
      "cell_type": "markdown",
      "source": [
        "<a id='clean'></a>\n",
        "#### Data cleaning"
      ],
      "metadata": {
        "_cell_guid": "cb401745-33d3-42df-a226-12a84fb04bd9",
        "_uuid": "86a79448bf138b3b4c249c5be4b812dbce492e9a",
        "id": "2Lvj6DbBze14"
      }
    },
    {
      "cell_type": "markdown",
      "source": [
        "From the exploratory data analysis (EDA) of section <a href='#EDA#'>2</a>, we know that fraud only occurs in\n",
        "'TRANSFER's and 'CASH_OUT's. So we assemble only the corresponding data in X\n",
        "for analysis."
      ],
      "metadata": {
        "_cell_guid": "cdd94133-5730-4f31-9a7e-c23c1322edb2",
        "_uuid": "a5b91ecc33d7f51bec7e5e357edef789e2459d12",
        "id": "thKWustNze14"
      }
    },
    {
      "cell_type": "code",
      "source": [
        "X = df.loc[(df.type == 'TRANSFER') | (df.type == 'CASH_OUT')]\n",
        "\n",
        "randomState = 5\n",
        "np.random.seed(randomState)\n",
        "\n",
        "#X = X.loc[np.random.choice(X.index, 100000, replace = False)]\n",
        "\n",
        "Y = X['isFraud']\n",
        "del X['isFraud']\n",
        "\n",
        "# Eliminate columns shown to be irrelevant for analysis in the EDA\n",
        "X = X.drop(['nameOrig', 'nameDest', 'isFlaggedFraud'], axis = 1)\n",
        "\n",
        "# Binary-encoding of labelled data in 'type'\n",
        "X.loc[X.type == 'TRANSFER', 'type'] = 0\n",
        "X.loc[X.type == 'CASH_OUT', 'type'] = 1\n",
        "X.type = X.type.astype(int) # convert dtype('O') to dtype(int)"
      ],
      "metadata": {
        "_cell_guid": "bc50e596-b0f3-4e63-877d-d506e2528cd1",
        "_uuid": "42807f63bb86782daedce8dfa7ba1385458c84c9",
        "execution": {
          "iopub.status.busy": "2024-10-26T20:03:53.319878Z",
          "iopub.status.idle": "2024-10-26T20:03:53.320154Z"
        },
        "trusted": true,
        "id": "SMtPMp1Lze14"
      },
      "execution_count": null,
      "outputs": []
    },
    {
      "cell_type": "code",
      "source": [
        "Xfraud = X.loc[Y == 1]\n",
        "XnonFraud = X.loc[Y == 0]\n",
        "print('\\nThe fraction of fraudulent transactions with \\'oldBalanceDest\\' = \\\n",
        "\\'newBalanceDest\\' = 0 although the transacted \\'amount\\' is non-zero is: {}'.\\\n",
        "format(len(Xfraud.loc[(Xfraud.oldBalanceDest == 0) & \\\n",
        "(Xfraud.newBalanceDest == 0) & (Xfraud.amount)]) / (1.0 * len(Xfraud))))\n",
        "\n",
        "print('\\nThe fraction of genuine transactions with \\'oldBalanceDest\\' = \\\n",
        "newBalanceDest\\' = 0 although the transacted \\'amount\\' is non-zero is: {}'.\\\n",
        "format(len(XnonFraud.loc[(XnonFraud.oldBalanceDest == 0) & \\\n",
        "(XnonFraud.newBalanceDest == 0) & (XnonFraud.amount)]) / (1.0 * len(XnonFraud))))"
      ],
      "metadata": {
        "_cell_guid": "ebff49a7-a155-4fcf-b6a1-69fedffed60b",
        "_uuid": "add520480eb9c8c0249aebaede714f1afae0f274",
        "execution": {
          "iopub.status.busy": "2024-10-26T20:03:53.320794Z",
          "iopub.status.idle": "2024-10-26T20:03:53.321102Z"
        },
        "trusted": true,
        "colab": {
          "base_uri": "https://localhost:8080/"
        },
        "id": "ys3HkWz4ze14",
        "outputId": "6eef21e7-80f1-4755-c0ff-79c555f2271f"
      },
      "execution_count": null,
      "outputs": [
        {
          "output_type": "stream",
          "name": "stdout",
          "text": [
            "\n",
            "The fraction of fraudulent transactions with 'oldBalanceDest' = 'newBalanceDest' = 0 although the transacted 'amount' is non-zero is: 0.48839427662957074\n",
            "\n",
            "The fraction of genuine transactions with 'oldBalanceDest' = newBalanceDest' = 0 although the transacted 'amount' is non-zero is: 0.0009366057677919689\n"
          ]
        }
      ]
    },
    {
      "cell_type": "code",
      "source": [
        "X.loc[(X.oldBalanceDest == 0) & (X.newBalanceDest == 0) & (X.amount != 0), \\\n",
        "      ['oldBalanceDest', 'newBalanceDest']] = - 1"
      ],
      "metadata": {
        "_cell_guid": "41351678-070d-4ed8-8386-760baeafc5bf",
        "_uuid": "b277e238d9470a7c1231ac2e59f9d0a0a25089ff",
        "execution": {
          "iopub.status.busy": "2024-10-26T20:03:53.321711Z",
          "iopub.status.idle": "2024-10-26T20:03:53.322011Z"
        },
        "trusted": true,
        "id": "0vtMNTY-ze14"
      },
      "execution_count": null,
      "outputs": []
    },
    {
      "cell_type": "code",
      "source": [
        "X.loc[(X.oldBalanceOrig == 0) & (X.newBalanceOrig == 0) & (X.amount != 0), \\\n",
        "      ['oldBalanceOrig', 'newBalanceOrig']] = np.nan"
      ],
      "metadata": {
        "_cell_guid": "a950ca90-ce03-4973-811c-96b714e09335",
        "_uuid": "57ee6691c420dc2f5261f99d8b02f2c17ea947f1",
        "execution": {
          "iopub.status.busy": "2024-10-26T20:03:53.322595Z",
          "iopub.status.idle": "2024-10-26T20:03:53.322930Z"
        },
        "trusted": true,
        "id": "CxNCvJN0ze14"
      },
      "execution_count": null,
      "outputs": []
    },
    {
      "cell_type": "markdown",
      "source": [
        "<a id='feature-eng'></a>\n",
        "#### 4. Feature-engineering"
      ],
      "metadata": {
        "_cell_guid": "6f02a6bb-08db-41b6-b0d1-2076e49a47e8",
        "_uuid": "b8e9aab218faffb19fa309eb3ef754d2cc58c4a4",
        "id": "qcnIvNETze14"
      }
    },
    {
      "cell_type": "markdown",
      "source": [
        "Motivated by the possibility of zero-balances serving to differentiate between\n",
        "fraudulent and genuine transactions, we take the data-imputation of section <a href='#imputation'>3.1</a> a\n",
        "step further and create 2 new features (columns) recording errors in the\n",
        "originating and\n",
        "destination accounts for each transaction. These new features turn out to be\n",
        "important in obtaining the best performance from the ML algorithm that we will\n",
        "finally use."
      ],
      "metadata": {
        "_cell_guid": "ee52641e-2440-4a48-b312-77369d9f2841",
        "_uuid": "f31f4503e62234aedc3782a64374207a1a6366a7",
        "id": "_4QpXq3hze14"
      }
    },
    {
      "cell_type": "code",
      "source": [
        "X['errorBalanceOrig'] = X.newBalanceOrig + X.amount - X.oldBalanceOrig\n",
        "X['errorBalanceDest'] = X.oldBalanceDest + X.amount - X.newBalanceDest"
      ],
      "metadata": {
        "_cell_guid": "51aac74d-bdd1-4eeb-8819-3fc0ec58ea20",
        "_uuid": "7ab7061e23ae18e435fd88b9f1fb418f88865d96",
        "execution": {
          "iopub.status.busy": "2024-10-26T20:03:53.323535Z",
          "iopub.status.idle": "2024-10-26T20:03:53.323830Z"
        },
        "trusted": true,
        "id": "z2Be_OF_ze15"
      },
      "execution_count": null,
      "outputs": []
    },
    {
      "cell_type": "markdown",
      "source": [
        "<a id='visualization'></a>\n",
        "#### 5. Data visualization"
      ],
      "metadata": {
        "_cell_guid": "9e3b61cc-9119-4483-8def-39503b6a0ce8",
        "_uuid": "a4da30990990d41b9c2232644fb09ca310edb004",
        "id": "ergyg9Dyze15"
      }
    },
    {
      "cell_type": "markdown",
      "source": [
        "<a id='time'></a>\n",
        "##### 5. 1. Dispersion over time"
      ],
      "metadata": {
        "_cell_guid": "ad15006e-1c46-4cc5-9c7d-08c3ab223e20",
        "_uuid": "286795bf2fd7fa5fd718adc424fce231cfff323f",
        "id": "B9PBCG8fze15"
      }
    },
    {
      "cell_type": "markdown",
      "source": [
        "<a id='amount'></a>\n",
        "##### Dispersion over amount"
      ],
      "metadata": {
        "_cell_guid": "eb256ef3-e56f-4bca-8308-1af5290bf98d",
        "_uuid": "1562b2d9d6cbff930b1505301d995850ddef7b4c",
        "id": "dHqo-ROCze15"
      }
    },
    {
      "cell_type": "code",
      "source": [
        "# limit = len(X)\n",
        "# ax = plotStrip(Y[:limit], - X.errorBalanceDest[:limit], X.type[:limit], \\\n",
        "#               figsize = (14, 9))\n",
        "# ax.set_ylabel('- errorBalanceDest', size = 16)\n",
        "# ax.set_title('Opposite polarity fingerprints over the error in \\\n",
        "# destination account balances', size = 18);"
      ],
      "metadata": {
        "_cell_guid": "d6698020-c416-4c48-b5d9-af8ee81b355a",
        "_uuid": "b4736a82a85d7a7ca5527a6e16f588e7f843aaa7",
        "execution": {
          "iopub.status.busy": "2024-10-26T20:03:53.327140Z",
          "iopub.status.idle": "2024-10-26T20:03:53.327417Z"
        },
        "trusted": true,
        "id": "cXt2tcTqze16"
      },
      "execution_count": null,
      "outputs": []
    },
    {
      "cell_type": "markdown",
      "source": [
        "<a id='ML'></a>\n",
        "#### 6. Machine Learning to Detect Fraud in Skewed Data"
      ],
      "metadata": {
        "_cell_guid": "3f2ee030-3b87-4d26-b635-c1eeb7a4fd20",
        "_uuid": "12707e17588726f8c19aa299cad9bf910ab26340",
        "id": "KEEn9QR6ze16"
      }
    },
    {
      "cell_type": "code",
      "source": [
        "trainX, testX, trainY, testY = train_test_split(X, Y, test_size = 0.2, \\\n",
        "                                                random_state = randomState)"
      ],
      "metadata": {
        "_cell_guid": "d42493c5-061b-4b5e-8a51-ac4b77ddb7e8",
        "_uuid": "86740e8f7845c4eb12f979f5e7af87be19022110",
        "execution": {
          "iopub.status.busy": "2024-10-26T20:03:53.330800Z",
          "iopub.status.idle": "2024-10-26T20:03:53.331148Z"
        },
        "trusted": true,
        "id": "Fcs58221ze17"
      },
      "execution_count": null,
      "outputs": []
    },
    {
      "cell_type": "code",
      "source": [
        "import numpy as np\n",
        "import pandas as pd\n",
        "from sklearn.model_selection import train_test_split\n",
        "from sklearn.ensemble import RandomForestClassifier\n",
        "from sklearn.metrics import average_precision_score, classification_report, confusion_matrix\n",
        "from sklearn.preprocessing import LabelEncoder\n",
        "from imblearn.over_sampling import SMOTE\n",
        "\n",
        "# Assuming X is your feature DataFrame and Y is your target variable (labels)\n",
        "\n",
        "# Preprocess specific features to handle imbalances and errors\n",
        "X.loc[(X.oldBalanceDest == 0) & (X.newBalanceDest == 0) & (X.amount != 0),\n",
        "      ['oldBalanceDest', 'newBalanceDest']] = -1\n",
        "X.loc[(X.oldBalanceOrig == 0) & (X.newBalanceOrig == 0) & (X.amount != 0),\n",
        "      ['oldBalanceOrig', 'newBalanceOrig']] = np.nan\n",
        "\n",
        "X['errorBalanceOrig'] = X.newBalanceOrig + X.amount - X.oldBalanceOrig\n",
        "X['errorBalanceDest'] = X.oldBalanceDest + X.amount - X.newBalanceDest\n",
        "\n",
        "# Add the 'location' column as a feature if it exists and is categorical\n",
        "if 'location' in X.columns:\n",
        "    le = LabelEncoder()\n",
        "    X['location'] = le.fit_transform(X['location'])\n",
        "\n",
        "# Reset indices of X and Y to ensure alignment and handle missing values in Y\n",
        "X = X.reset_index(drop=True)\n",
        "Y = Y.reset_index(drop=True)\n",
        "\n",
        "# Drop rows in X and Y where Y has NaN values\n",
        "X, Y = X[~Y.isna()], Y.dropna()\n",
        "\n",
        "# Print skew of the dataset to understand class imbalance\n",
        "skew_ratio = len(Y[Y == 1]) / float(len(Y))\n",
        "print('Skew =', skew_ratio)\n",
        "\n",
        "# Split the data into training and test sets\n",
        "trainX, testX, trainY, testY = train_test_split(X, Y, test_size=0.2, random_state=42)\n",
        "\n",
        "# Apply SMOTE to handle class imbalance\n",
        "sm = SMOTE(random_state=42)\n",
        "trainX_res, trainY_res = sm.fit_resample(trainX, trainY)\n",
        "\n",
        "# Define and train the Random Forest Classifier with balanced class weights\n",
        "clf = RandomForestClassifier(max_depth=3, class_weight='balanced', n_jobs=4)\n",
        "clf.fit(trainX_res, trainY_res)\n",
        "\n",
        "# Make predictions on the test set\n",
        "probabilities = clf.predict_proba(testX)[:, 1]  # Probability of the positive class (fraud)\n",
        "predictions = clf.predict(testX)\n",
        "\n",
        "# Evaluation metrics\n",
        "print(\"AUPRC =\", average_precision_score(testY, probabilities))\n",
        "print(\"Classification Report:\\n\", classification_report(testY, predictions))\n",
        "print(\"Confusion Matrix:\\n\", confusion_matrix(testY, predictions))\n"
      ],
      "metadata": {
        "_cell_guid": "7a1c6c5c-564d-4f10-9b48-02d2e287d82f",
        "_uuid": "bd071708fd0b0b93fdbd973fce9126f91f8dd871",
        "execution": {
          "iopub.status.busy": "2024-10-26T20:03:53.331754Z",
          "iopub.status.idle": "2024-10-26T20:03:53.332060Z"
        },
        "trusted": true,
        "colab": {
          "base_uri": "https://localhost:8080/"
        },
        "id": "Kgu1AsJ4ze17",
        "outputId": "3caae0a5-356e-4302-f6ca-31a9f691aec9"
      },
      "execution_count": null,
      "outputs": [
        {
          "output_type": "stream",
          "name": "stdout",
          "text": [
            "Skew = 0.001932893858621567\n",
            "AUPRC = 0.9833532020287954\n",
            "Classification Report:\n",
            "               precision    recall  f1-score   support\n",
            "\n",
            "         0.0       1.00      0.98      0.99    324802\n",
            "         1.0       0.10      0.99      0.18       617\n",
            "\n",
            "    accuracy                           0.98    325419\n",
            "   macro avg       0.55      0.99      0.58    325419\n",
            "weighted avg       1.00      0.98      0.99    325419\n",
            "\n",
            "Confusion Matrix:\n",
            " [[319114   5688]\n",
            " [     7    610]]\n"
          ]
        }
      ]
    },
    {
      "cell_type": "code",
      "source": [
        "import pickle\n",
        "\n",
        "# Save the model using pickle\n",
        "model_filename = 'Fraudulant_detection.pkl'\n",
        "with open(model_filename, 'wb') as file:\n",
        "    pickle.dump(clf, file)\n",
        "\n",
        "print(f'Model saved to {model_filename}')"
      ],
      "metadata": {
        "id": "2AtXFPkdG2Hv",
        "colab": {
          "base_uri": "https://localhost:8080/"
        },
        "outputId": "2674d906-af14-48e4-ab99-b54cfa34dff6"
      },
      "execution_count": null,
      "outputs": [
        {
          "output_type": "stream",
          "name": "stdout",
          "text": [
            "Model saved to Fraudulant_detection.pkl\n"
          ]
        }
      ]
    },
    {
      "cell_type": "markdown",
      "source": [
        "<a id='importance'></a>\n",
        "##### 6.1. What are the important features for the ML model?\n",
        "The figure below shows that the new feature *errorBalanceOrig* that we created is the most relevant feature for the model. The features are ordered based on the number of samples affected by splits on those features."
      ],
      "metadata": {
        "_cell_guid": "6fa793ac-7f64-43cb-aaaf-6851c04d392f",
        "_uuid": "94c7e03bafa5665d824d279c1786e5325667ec4a",
        "id": "-Q83Qv6Kze17"
      }
    },
    {
      "cell_type": "code",
      "source": [
        "# Calculate feature importances\n",
        "importances = clf.feature_importances_\n",
        "feature_names = X.columns  # Get feature names\n",
        "\n",
        "# Create a DataFrame for easier plotting\n",
        "importance_df = pd.DataFrame({'Feature': feature_names, 'Importance': importances})\n",
        "importance_df = importance_df.sort_values(by='Importance', ascending=False)\n",
        "\n",
        "# Plotting\n",
        "fig = plt.figure(figsize=(14, 9))\n",
        "ax = fig.add_subplot(111)\n",
        "\n",
        "# Create a horizontal bar plot\n",
        "ax.barh(importance_df['Feature'], importance_df['Importance'], color=plt.cm.Set1(np.linspace(0, 1, len(importance_df))))\n",
        "\n",
        "# Customize the plot\n",
        "for axis in ['top', 'bottom', 'left', 'right']:\n",
        "    ax.spines[axis].set_linewidth(2)\n",
        "\n",
        "ax.set_xlabel('Importance Score', size=16)\n",
        "ax.set_ylabel('Features', size=16)\n",
        "ax.set_yticklabels(importance_df['Feature'], size=12)\n",
        "ax.set_title('Ordering of Features by Importance to the Model Learnt', size=20)\n",
        "\n",
        "plt.show()"
      ],
      "metadata": {
        "_cell_guid": "e9af0368-f772-4170-b827-4ef4ccb1faca",
        "_uuid": "b35967bb8e6fb4beb337404eca84963632461b3a",
        "execution": {
          "iopub.status.busy": "2024-10-26T20:03:53.332660Z",
          "iopub.status.idle": "2024-10-26T20:03:53.332990Z"
        },
        "trusted": true,
        "id": "0lDeMGIjze17",
        "colab": {
          "base_uri": "https://localhost:8080/",
          "height": 697
        },
        "outputId": "8d8f924c-d00e-4c69-c00b-77eebf5b0c86"
      },
      "execution_count": null,
      "outputs": [
        {
          "output_type": "stream",
          "name": "stderr",
          "text": [
            "<ipython-input-19-266ccf237d96>:22: UserWarning: FixedFormatter should only be used together with FixedLocator\n",
            "  ax.set_yticklabels(importance_df['Feature'], size=12)\n"
          ]
        },
        {
          "output_type": "display_data",
          "data": {
            "text/plain": [
              "<Figure size 1400x900 with 1 Axes>"
            ],
            "image/png": "[encoded data removed]"
          },
          "metadata": {}
        }
      ]
    },
    {
      "cell_type": "code",
      "source": [
        "import matplotlib.pyplot as plt\n",
        "from sklearn.tree import plot_tree\n",
        "\n",
        "# Select one tree from the random forest (e.g., the first tree)\n",
        "estimator = clf.estimators_[0]  # Get the first tree in the forest\n",
        "\n",
        "# Create a plot for the tree\n",
        "plt.figure(figsize=(20, 10))\n",
        "plot_tree(estimator, filled=True, feature_names=X.columns, rounded=True, fontsize=14)\n",
        "plt.title('Visualization of a Decision Tree from Random Forest', size=20)\n",
        "plt.show()"
      ],
      "metadata": {
        "_cell_guid": "04396421-7f99-48fe-9cfb-46ddfbd7e5cc",
        "_uuid": "e1a97efd238503a62344a85123dc40ca14bd74ae",
        "execution": {
          "iopub.status.busy": "2024-10-26T20:03:53.333680Z",
          "iopub.status.idle": "2024-10-26T20:03:53.334004Z"
        },
        "trusted": true,
        "id": "QwuG3PCDze17"
      },
      "execution_count": null,
      "outputs": []
    },
    {
      "cell_type": "code",
      "source": [
        "# import numpy as np\n",
        "# import matplotlib.pyplot as plt\n",
        "# from sklearn.ensemble import RandomForestClassifier\n",
        "# from sklearn.model_selection import learning_curve\n",
        "\n",
        "# # Assuming you have trainX and trainY defined, along with weights for class imbalance\n",
        "# trainSizes, trainScores, crossValScores = learning_curve(\n",
        "#     RandomForestClassifier(max_depth=3, n_jobs=4),  # Replace XGBClassifier with RandomForestClassifier\n",
        "#     trainX,\n",
        "#     trainY,\n",
        "#     scoring='average_precision'\n",
        "# )\n",
        "\n",
        "# # Calculate means and standard deviations\n",
        "# trainScoresMean = np.mean(trainScores, axis=1)\n",
        "# trainScoresStd = np.std(trainScores, axis=1)\n",
        "# crossValScoresMean = np.mean(crossValScores, axis=1)\n",
        "# crossValScoresStd = np.std(crossValScores, axis=1)\n",
        "\n",
        "# # Visualization\n",
        "# colours = plt.cm.tab10(np.linspace(0, 1, 9))\n",
        "\n",
        "# fig = plt.figure(figsize=(14, 9))\n",
        "# plt.fill_between(trainSizes, trainScoresMean - trainScoresStd,\n",
        "#                  trainScoresMean + trainScoresStd, alpha=0.1, color=colours[0])\n",
        "# plt.fill_between(trainSizes, crossValScoresMean - crossValScoresStd,\n",
        "#                  crossValScoresMean + crossValScoresStd, alpha=0.1, color=colours[1])\n",
        "# plt.plot(trainSizes, trainScoresMean, 'o-', label='train', color=colours[0])\n",
        "# plt.plot(trainSizes, crossValScoresMean, 'o-', label='cross-val', color=colours[1])\n",
        "\n",
        "# # Customizing the plot\n",
        "# ax = plt.gca()\n",
        "# for axis in ['top', 'bottom', 'left', 'right']:\n",
        "#     ax.spines[axis].set_linewidth(2)\n",
        "\n",
        "# handles, labels = ax.get_legend_handles_labels()\n",
        "# plt.legend(handles, ['train', 'cross-val'], bbox_to_anchor=(0.8, 0.15),\n",
        "#            loc=2, borderaxespad=0, fontsize=16)\n",
        "# plt.xlabel('Training Set Size', size=16)\n",
        "# plt.ylabel('AUPRC', size=16)\n",
        "# plt.title('Learning Curves for Random Forest Classifier', size=20)\n",
        "\n",
        "# plt.show()\n"
      ],
      "metadata": {
        "_cell_guid": "ca081d48-0036-4f48-a15d-80cb56e982a7",
        "_uuid": "b422b057cef6b2cced3c65faac5182232350bf70",
        "execution": {
          "iopub.status.busy": "2024-10-26T20:03:53.335724Z",
          "iopub.status.idle": "2024-10-26T20:03:53.336222Z"
        },
        "trusted": true,
        "id": "E8xLvIEMze18"
      },
      "execution_count": null,
      "outputs": []
    }
  ]
}